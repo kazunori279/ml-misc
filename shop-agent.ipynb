{
  "cells": [
    {
      "cell_type": "markdown",
      "source": [
        "# 商品検索AIエージェントのサンプルコード\n",
        "\n",
        "## ADKのインストール"
      ],
      "metadata": {
        "id": "jLQ7lbhwrGFA"
      },
      "id": "jLQ7lbhwrGFA"
    },
    {
      "cell_type": "code",
      "id": "oeSkwKPttGh5YTX79KT9oM0E",
      "metadata": {
        "tags": [],
        "id": "oeSkwKPttGh5YTX79KT9oM0E",
        "colab": {
          "base_uri": "https://localhost:8080/"
        },
        "outputId": "b869fdd4-5f7b-472c-d652-ef376d114d2e"
      },
      "source": [
        "%pip uninstall -y google-adk\n",
        "%pip install --upgrade --no-cache-dir --quiet google-adk"
      ],
      "execution_count": 51,
      "outputs": [
        {
          "output_type": "stream",
          "name": "stdout",
          "text": [
            "Found existing installation: google-adk 0.2.0\n",
            "Uninstalling google-adk-0.2.0:\n",
            "  Successfully uninstalled google-adk-0.2.0\n",
            "\u001b[2K   \u001b[90m━━━━━━━━━━━━━━━━━━━━━━━━━━━━━━━━━━━━━━━━\u001b[0m \u001b[32m1.2/1.2 MB\u001b[0m \u001b[31m18.4 MB/s\u001b[0m eta \u001b[36m0:00:00\u001b[0m\n",
            "\u001b[?25h"
          ]
        }
      ]
    },
    {
      "cell_type": "markdown",
      "source": [
        "### ランタイム再起動"
      ],
      "metadata": {
        "id": "Uk4XAyLZsWoI"
      },
      "id": "Uk4XAyLZsWoI"
    },
    {
      "cell_type": "code",
      "source": [
        "import IPython\n",
        "app = IPython.Application.instance()\n",
        "_ = app.kernel.do_shutdown(True)"
      ],
      "metadata": {
        "id": "Awb0P-a5fTSc"
      },
      "id": "Awb0P-a5fTSc",
      "execution_count": 53,
      "outputs": []
    },
    {
      "cell_type": "markdown",
      "source": [
        "## ライブラリの初期化"
      ],
      "metadata": {
        "id": "WoqdAfBRrRcR"
      },
      "id": "WoqdAfBRrRcR"
    },
    {
      "cell_type": "code",
      "source": [
        "import copy, json, os, re, uuid\n",
        "import vertexai\n",
        "from google.genai.types import Part, UserContent, ModelContent\n",
        "from google.adk.agents import Agent\n",
        "from google.adk.artifacts import InMemoryArtifactService\n",
        "from google.adk.memory.in_memory_memory_service import InMemoryMemoryService\n",
        "from google.adk.runners import Runner\n",
        "from google.adk.sessions import InMemorySessionService\n",
        "from google.adk.tools.agent_tool import AgentTool\n",
        "\n",
        "[PROJECT_ID] = !gcloud config list --format 'value(core.project)'\n",
        "LOCATION = 'us-central1'\n",
        "\n",
        "vertexai.init(project=PROJECT_ID, location=LOCATION)\n",
        "\n",
        "os.environ['GOOGLE_CLOUD_PROJECT'] = PROJECT_ID\n",
        "os.environ['GOOGLE_CLOUD_LOCATION'] = LOCATION\n",
        "os.environ['GOOGLE_GENAI_USE_VERTEXAI'] = 'True'"
      ],
      "metadata": {
        "id": "M22ecOwlgdYZ"
      },
      "id": "M22ecOwlgdYZ",
      "execution_count": 1,
      "outputs": []
    },
    {
      "cell_type": "markdown",
      "source": [
        "## エージェント実行用 LocalApp の定義"
      ],
      "metadata": {
        "id": "ynPYDwqjrVaa"
      },
      "id": "ynPYDwqjrVaa"
    },
    {
      "cell_type": "code",
      "source": [
        "class LocalApp:\n",
        "    def __init__(self, agent):\n",
        "        self._agent = agent\n",
        "        self._user_id = 'local_app'\n",
        "        self._runner = Runner(\n",
        "            app_name=self._agent.name,\n",
        "            agent=self._agent,\n",
        "            artifact_service=InMemoryArtifactService(),\n",
        "            session_service=InMemorySessionService(),\n",
        "            memory_service=InMemoryMemoryService(),\n",
        "        )\n",
        "        self._session = self._runner.session_service.create_session(\n",
        "            app_name=self._agent.name,\n",
        "            user_id=self._user_id,\n",
        "            state={},\n",
        "            session_id=uuid.uuid1().hex,\n",
        "        )\n",
        "\n",
        "    async def _stream(self, query):\n",
        "        content = UserContent(parts=[Part.from_text(text=query)])\n",
        "        async_events = self._runner.run_async(\n",
        "            user_id=self._user_id,\n",
        "            session_id=self._session.id,\n",
        "            new_message=content,\n",
        "        )\n",
        "        result = []\n",
        "        agent_name = None\n",
        "        async for event in async_events:\n",
        "            if DEBUG:\n",
        "                print(f'----\\n{event}\\n----')\n",
        "            if (event.content and event.content.parts):\n",
        "                response = ''\n",
        "                for p in event.content.parts:\n",
        "                    if p.text:\n",
        "                        response += f'[{event.author}]\\n\\n{p.text}\\n'\n",
        "                if response:\n",
        "                    #### Temporary fix for wrong agent routing message\n",
        "                    pattern = 'transfer_to_agent\\(agent_name=[\"\\']([^\"]+)[\"\\']\\)'\n",
        "                    matched = re.search(pattern, response)\n",
        "                    if (not agent_name) and matched:\n",
        "                        agent_name = matched.group(1)\n",
        "                    else:\n",
        "                        print(response)\n",
        "                        result.append(response)\n",
        "                    ####\n",
        "        return result, agent_name\n",
        "\n",
        "    async def stream(self, query):\n",
        "        result, agent_name = await self._stream(query)\n",
        "        #### Temporary fix for wrong agent routing message\n",
        "        if agent_name:\n",
        "            if DEBUG:\n",
        "                print(f'----\\nForce transferring to {agent_name}\\n----')\n",
        "            result, _ = await self._stream(f'Please transfer to {agent_name}')\n",
        "        ####\n",
        "        return result"
      ],
      "metadata": {
        "id": "6VdD5Gl-gfAj"
      },
      "id": "6VdD5Gl-gfAj",
      "execution_count": 2,
      "outputs": []
    },
    {
      "cell_type": "markdown",
      "source": [
        "## 基本のエージェント定義"
      ],
      "metadata": {
        "id": "TcVBA98xra0i"
      },
      "id": "TcVBA98xra0i"
    },
    {
      "cell_type": "code",
      "source": [
        "instruction = f'''\n",
        "    Your role is a shop search agent on an e-commerce site with millions of\n",
        "    items. Your responsibility is to search items based on user queries.\n",
        "'''\n",
        "\n",
        "item_search_agent = Agent(\n",
        "    model='gemini-2.0-flash-001',\n",
        "    name='item_search_agent',\n",
        "    description=(\n",
        "        'Item search agent for an e-commerce site'\n",
        "    ),\n",
        "    instruction=instruction,\n",
        ")"
      ],
      "metadata": {
        "id": "em9XplVkggtO"
      },
      "id": "em9XplVkggtO",
      "execution_count": 3,
      "outputs": []
    },
    {
      "cell_type": "code",
      "source": [
        "client = LocalApp(item_search_agent)\n",
        "DEBUG = False\n",
        "\n",
        "query = f'''\n",
        "こんにちは！　ここはどんなサイトですか？\n",
        "'''\n",
        "_ = await client.stream(query)"
      ],
      "metadata": {
        "colab": {
          "base_uri": "https://localhost:8080/"
        },
        "id": "b8Su64XMg8Xp",
        "outputId": "44cbd27a-dfc7-4f72-b881-c2329b41857c"
      },
      "id": "b8Su64XMg8Xp",
      "execution_count": 4,
      "outputs": [
        {
          "output_type": "stream",
          "name": "stdout",
          "text": [
            "[item_search_agent]\n",
            "\n",
            "こんにちは！ここは数百万点の商品を取り扱うeコマースサイトです。何かお探しのものはありますか？\n",
            "\n",
            "\n"
          ]
        }
      ]
    },
    {
      "cell_type": "markdown",
      "source": [
        "## 商品検索APIの呼び出し関数"
      ],
      "metadata": {
        "id": "zcJJw0m6re_K"
      },
      "id": "zcJJw0m6re_K"
    },
    {
      "cell_type": "code",
      "source": [
        "import requests\n",
        "\n",
        "def call_query_api(api_url, query, rows=None, dataset_id=None, use_dense=True, use_sparse=False):\n",
        "    \"\"\"\n",
        "    Calls the Flask API endpoint for querying.\n",
        "\n",
        "    Args:\n",
        "        api_url (str): The URL of the search endpoint.\n",
        "        query (str): The query string.\n",
        "        rows (int, optional): The number of result rows to return. Defaults to None.\n",
        "        dataset_id (str, optional): The ID of the dataset to query. Defaults to None.\n",
        "        use_dense (bool, optional): Whether to use dense embeddings. Defaults to True.\n",
        "        use_sparse (bool, optional): Whether to use sparse embeddings. Defaults to False.\n",
        "\n",
        "    Returns:\n",
        "        dict: The JSON response from the API.\n",
        "    \"\"\"\n",
        "    headers = {'Content-Type': 'application/json'}\n",
        "    payload = {\n",
        "        \"query\": query,\n",
        "        \"rows\": rows,\n",
        "        \"dataset_id\": dataset_id,\n",
        "        \"use_dense\": use_dense,\n",
        "        \"use_sparse\": use_sparse,\n",
        "        \"rrf_alpha\": None,\n",
        "        \"use_rerank\": None,\n",
        "    }\n",
        "\n",
        "    try:\n",
        "        response = requests.post(api_url, headers=headers, data=json.dumps(payload))\n",
        "        response.raise_for_status()  # Raise an exception for bad status codes\n",
        "        return response.json()\n",
        "    except requests.exceptions.RequestException as e:\n",
        "        print(f\"Error calling the API: {e}\")\n",
        "        return None"
      ],
      "metadata": {
        "id": "y75WYLNchHPD"
      },
      "id": "y75WYLNchHPD",
      "execution_count": 5,
      "outputs": []
    },
    {
      "cell_type": "markdown",
      "source": [
        "## 商品検索Toolの定義"
      ],
      "metadata": {
        "id": "VQzZRzYdrtKg"
      },
      "id": "VQzZRzYdrtKg"
    },
    {
      "cell_type": "code",
      "source": [
        "from typing import Dict\n",
        "\n",
        "def find_shopping_items(queries: list[str]) -> Dict[str, str]:\n",
        "    \"\"\"\n",
        "    Find shopping items from the e-commerce site with the specified list of\n",
        "    queries.\n",
        "\n",
        "    Args:\n",
        "        queries: the list of queries to run.\n",
        "    Returns:\n",
        "        A dict with the following one property:\n",
        "            - \"status\": returns the following status:\n",
        "                - \"success\": successful execution\n",
        "            - \"items\": items found in the e-commerce site.\n",
        "    \"\"\"\n",
        "    api_endpoint = \"https://www.ac0.cloudadvocacyorg.joonix.net/api/query\"\n",
        "\n",
        "    items = []\n",
        "    for query in queries:\n",
        "        result = call_query_api(\n",
        "            api_url=api_endpoint,\n",
        "            query=query,\n",
        "            dataset_id=\"mercari3m_mm\", # Mercari 3M items Multimodal Embeddings\n",
        "            rows=3,\n",
        "        )\n",
        "        items.extend(result[\"items\"])\n",
        "\n",
        "    print(\"-----\")\n",
        "    print(f\"User queries: {queries}\")\n",
        "    print(f\"Found: {len(items)} items\")\n",
        "    print(\"-----\")\n",
        "\n",
        "    return items"
      ],
      "metadata": {
        "id": "D7Vj4_-aiykD"
      },
      "id": "D7Vj4_-aiykD",
      "execution_count": 6,
      "outputs": []
    },
    {
      "cell_type": "code",
      "source": [
        "find_shopping_items([\"Cups with dancing people\", \"Cups with dancing animals\"])"
      ],
      "metadata": {
        "colab": {
          "base_uri": "https://localhost:8080/"
        },
        "id": "KMWwG9CJl0zR",
        "outputId": "ebfbc6d3-5255-42bb-e638-faff7ae710ae"
      },
      "id": "KMWwG9CJl0zR",
      "execution_count": 7,
      "outputs": [
        {
          "output_type": "stream",
          "name": "stdout",
          "text": [
            "-----\n",
            "User queries: ['Cups with dancing people', 'Cups with dancing animals']\n",
            "Found: 6 items\n",
            "-----\n"
          ]
        },
        {
          "output_type": "execute_result",
          "data": {
            "text/plain": [
              "[{'dense_dist': 0.20211432874202728,\n",
              "  'description': 'Vintage hardanger dancer bergquist figgjo coffee mugs',\n",
              "  'id': 'm10172014563',\n",
              "  'img_url': 'https://u-mercari-images.mercdn.net/photos/m10172014563_1.jpg?w=200&h=200&fitcrop&sharpen',\n",
              "  'name': 'Vintage Berquist Figgjo coffee mugs',\n",
              "  'rerank_score': 0.0,\n",
              "  'sparse_dist': None,\n",
              "  'url': 'https://www.mercari.com/us/item/m10172014563'},\n",
              " {'dense_dist': 0.1960698664188385,\n",
              "  'description': 'Pottery Barn Christmas Reindeer Mugs - Dasher, Dancer, Prancer & Vixen Set of 4',\n",
              "  'id': 'm81366738028',\n",
              "  'img_url': 'https://u-mercari-images.mercdn.net/photos/m81366738028_1.jpg?w=200&h=200&fitcrop&sharpen',\n",
              "  'name': 'Pottery barn reindeer mugs',\n",
              "  'rerank_score': 0.0,\n",
              "  'sparse_dist': None,\n",
              "  'url': 'https://www.mercari.com/us/item/m81366738028'},\n",
              " {'dense_dist': 0.18155741691589355,\n",
              "  'description': 'VINTAGE CERAMIC MUG \\nHOLLAND THEME \\nCRAZING INSIDE NO CHIPS OR CRACKS\\nBC MARKED ON BOTTOM \\nSMOKE-FREE HOME\\n\\n\\n\\n\\n3/23-2\\n1lb 4oz\\nSHD',\n",
              "  'id': 'm31752226664',\n",
              "  'img_url': 'https://u-mercari-images.mercdn.net/photos/m31752226664_1.jpg?w=200&h=200&fitcrop&sharpen',\n",
              "  'name': 'VINTAGE CERAMIC MUG COLLECTIBLE HOLLAND THEME CRAZING INSIDE BC MARKED ON BOTTOM',\n",
              "  'rerank_score': 0.0,\n",
              "  'sparse_dist': None,\n",
              "  'url': 'https://www.mercari.com/us/item/m31752226664'},\n",
              " {'dense_dist': 0.25508204102516174,\n",
              "  'description': 'Gold rim on top\\nNo cracks or chips \\nExcellent condition \\nNo marks inside cup\\nLike new\\nNon smoking home',\n",
              "  'id': 'm71882643462',\n",
              "  'img_url': 'https://u-mercari-images.mercdn.net/photos/m71882643462_1.jpg?w=200&h=200&fitcrop&sharpen',\n",
              "  'name': 'VINTAGE Walt Disney ARISTOCATS Gold Rim Coffee Mugs Cup Teacup (Japan)',\n",
              "  'rerank_score': 0.0,\n",
              "  'sparse_dist': None,\n",
              "  'url': 'https://www.mercari.com/us/item/m71882643462'},\n",
              " {'dense_dist': 0.24132739007472992,\n",
              "  'description': 'Pottery Barn Christmas Reindeer Mugs - Dasher, Dancer, Prancer & Vixen Set of 4',\n",
              "  'id': 'm81366738028',\n",
              "  'img_url': 'https://u-mercari-images.mercdn.net/photos/m81366738028_1.jpg?w=200&h=200&fitcrop&sharpen',\n",
              "  'name': 'Pottery barn reindeer mugs',\n",
              "  'rerank_score': 0.0,\n",
              "  'sparse_dist': None,\n",
              "  'url': 'https://www.mercari.com/us/item/m81366738028'},\n",
              " {'dense_dist': 0.2169891595840454,\n",
              "  'description': 'adorable vintage 70s baby cup \\ncute little animals on the front & two handles',\n",
              "  'id': 'm52045324570',\n",
              "  'img_url': 'https://u-mercari-images.mercdn.net/photos/m52045324570_1.jpg?w=200&h=200&fitcrop&sharpen',\n",
              "  'name': 'vintage 70s mug',\n",
              "  'rerank_score': 0.0,\n",
              "  'sparse_dist': None,\n",
              "  'url': 'https://www.mercari.com/us/item/m52045324570'}]"
            ]
          },
          "metadata": {},
          "execution_count": 7
        }
      ]
    },
    {
      "cell_type": "markdown",
      "source": [
        "## 商品検索Toolに対応したエージェントの定義"
      ],
      "metadata": {
        "id": "S1E0TEB7ryBe"
      },
      "id": "S1E0TEB7ryBe"
    },
    {
      "cell_type": "code",
      "source": [
        "instruction = f'''\n",
        "    Your role is a shop search agent on an e-commerce site with millions of\n",
        "    items. Your responsibility is to search items based on the queries you\n",
        "    recieve.\n",
        "\n",
        "    To find items use `find_shopping_items` tool by passing a list of queries.\n",
        "    If the user requests in non-English languate, translate the query into\n",
        "    English. When you recieved a list of items from the tool, answer to the\n",
        "    user with item's name, description and img_url, by translating them back to\n",
        "    the user's language.\n",
        "'''\n",
        "\n",
        "item_search_agent = Agent(\n",
        "    model='gemini-2.0-flash-001',\n",
        "    name='item_search_agent',\n",
        "    description=(\n",
        "        'Item search agent for an e-commerce site'\n",
        "    ),\n",
        "    instruction=instruction,\n",
        "    tools=[find_shopping_items],\n",
        ")"
      ],
      "metadata": {
        "id": "sHVv95QUnDHE"
      },
      "execution_count": 8,
      "outputs": [],
      "id": "sHVv95QUnDHE"
    },
    {
      "cell_type": "code",
      "source": [
        "client = LocalApp(item_search_agent)\n",
        "DEBUG = False\n",
        "\n",
        "query = f'''\n",
        "踊っている人が描かれたコップを探してください。\n",
        "'''\n",
        "_ = await client.stream(query)"
      ],
      "metadata": {
        "colab": {
          "base_uri": "https://localhost:8080/"
        },
        "outputId": "4b346889-13a0-4cd1-bc83-551b730d070a",
        "id": "L4CpsCzWnfIj"
      },
      "execution_count": 9,
      "outputs": [
        {
          "output_type": "stream",
          "name": "stderr",
          "text": [
            "WARNING:google_genai.types:Warning: there are non-text parts in the response: ['function_call'],returning concatenated text result from text parts,check out the non text parts for full response from model.\n"
          ]
        },
        {
          "output_type": "stream",
          "name": "stdout",
          "text": [
            "-----\n",
            "User queries: ['A cup with a picture of a dancing person']\n",
            "Found: 3 items\n",
            "-----\n",
            "[item_search_agent]\n",
            "\n",
            " 踊っている人が描かれたコップは以下の通りです。\n",
            "\n",
            "1. 商品名：背の高いティガーマグカップ（16オンス）\n",
            "\n",
            "説明：ディズニーブランドのティガーがマグカップの中や外で飛び跳ねています。 16オンス\n",
            "\n",
            "画像のURL：https://u-mercari-images.mercdn.net/photos/m18336396506_1.jpg?w=200&h=200&fitcrop&sharpen\n",
            "\n",
            "2. 商品名：ジーン・ムーア「ファンタジー」ティファニーカップ\n",
            "\n",
            "説明：一番かわいい小さなカップ。 ダブルハンドルで、カラフルなモチーフが付いています。 欠けやひび割れはありません。\n",
            "\n",
            "画像のURL：https://u-mercari-images.mercdn.net/photos/m66490364828_1.jpg?w=200&h=200&fitcrop&sharpen\n",
            "\n",
            "3. 商品名：KOKOPELLIアーティストサイン入りコーヒーマグ\n",
            "\n",
            "説明：HTF KOKOPELLIコーヒーマグ、アーティスト「アースメディスン」。 リムに小さな傷があり、ハンドルの付け根に欠けがあります。 使用によりマグカップの口の周りが若干色あせています。 写真をよくご確認ください。\n",
            "\n",
            "画像のURL：https://u-mercari-images.mercdn.net/photos/m91064351259_1.jpg?w=200&h=200&fitcrop&sharpen\n",
            "\n",
            "\n"
          ]
        }
      ],
      "id": "L4CpsCzWnfIj"
    },
    {
      "cell_type": "markdown",
      "source": [
        "## Google検索によるクエリ生成エージェントの定義"
      ],
      "metadata": {
        "id": "IoKVQ8vcr2zL"
      },
      "id": "IoKVQ8vcr2zL"
    },
    {
      "cell_type": "code",
      "source": [
        "from google.adk.tools import google_search\n",
        "\n",
        "instruction = f'''\n",
        "    Your role is a market researcher for an e-commerce site with millions of\n",
        "    items.\n",
        "\n",
        "    When you recieved a search request from an user, use Google Search tool to\n",
        "    research on what kind of items people are purchasing for the user's intent.\n",
        "\n",
        "    Then, generate 5 queries finding those items on the e-commerce site and\n",
        "    return them.\n",
        "'''\n",
        "\n",
        "market_research_agent = Agent(\n",
        "    model='gemini-2.0-flash-001',\n",
        "    name='market_research_agent',\n",
        "    description=('''\n",
        "        A market researcher for an e-commerce site. Receives a search request\n",
        "        from a user, and returns a list of 5 generated queries in English.\n",
        "    '''),\n",
        "    instruction=instruction,\n",
        "    tools=[google_search],\n",
        ")"
      ],
      "metadata": {
        "id": "cL-EDlNtoRk5"
      },
      "execution_count": 10,
      "outputs": [],
      "id": "cL-EDlNtoRk5"
    },
    {
      "cell_type": "code",
      "source": [
        "client = LocalApp(market_research_agent)\n",
        "DEBUG = False\n",
        "\n",
        "query = f'''\n",
        "birthday present for 10 years old boy\n",
        "'''\n",
        "_ = await client.stream(query)"
      ],
      "metadata": {
        "colab": {
          "base_uri": "https://localhost:8080/"
        },
        "outputId": "ef485d6e-9e10-4ea7-bbd0-bb630c1e8612",
        "id": "0FYYM9zLpJ2L"
      },
      "execution_count": 11,
      "outputs": [
        {
          "output_type": "stream",
          "name": "stdout",
          "text": [
            "[market_research_agent]\n",
            "\n",
            "Okay, here are 5 potential search queries for an e-commerce site, designed to find a birthday present for a 10-year-old boy:\n",
            "\n",
            "1.  \"STEM kits for 10 year old boys\"\n",
            "2.  \"LEGO sets for 10 year old boys age 10+\"\n",
            "3.  \"Outdoor games for 10 year old active boys\"\n",
            "4.  \"Remote control toys for 10 year old boys\"\n",
            "5.  \"Board games age 10+ for boys family\"\n",
            "\n",
            "\n"
          ]
        }
      ],
      "id": "0FYYM9zLpJ2L"
    },
    {
      "cell_type": "markdown",
      "source": [
        "## 商品検索コンシェルジュエージェントの定義"
      ],
      "metadata": {
        "id": "qlgJf8sGwnDl"
      },
      "id": "qlgJf8sGwnDl"
    },
    {
      "cell_type": "code",
      "source": [
        "instruction = f'''\n",
        "    Your role is a shopper's concierge for an e-commerce site with millions of\n",
        "    items. Follow the following steps. All communication with the user should\n",
        "    be done in the user's language.\n",
        "\n",
        "    1. Market research: When you recieved a search request from an user,\n",
        "    translate the request to English, and pass the translated request to\n",
        "    `market_research_agent` tool, and receive 5 generated queries. Share\n",
        "    the queries with the user, and ask if they want to continue.\n",
        "\n",
        "    2. Find items: When use requested finding items with the queries, pass\n",
        "    the list of queries to `find_shopping_items` to\n",
        "    find items. When you recieved a list of items from the tool, answer to the\n",
        "    user with item's name, description and the image url, by\n",
        "    translating them back to the user's language.\n",
        "'''\n",
        "\n",
        "shop_concierge_agent = Agent(\n",
        "    model='gemini-2.0-flash-001',\n",
        "    name='shop_concierge_agent',\n",
        "    description=(\n",
        "        'A shopper\\'s concierge for an e-commerce site'\n",
        "    ),\n",
        "    instruction=instruction,\n",
        "    tools=[\n",
        "        AgentTool(agent=market_research_agent),\n",
        "        find_shopping_items,\n",
        "    ],\n",
        ")"
      ],
      "metadata": {
        "id": "gnsNNcSbwi5e"
      },
      "execution_count": 15,
      "outputs": [],
      "id": "gnsNNcSbwi5e"
    },
    {
      "cell_type": "code",
      "source": [
        "client = LocalApp(shop_concierge_agent)\n",
        "DEBUG = False\n",
        "\n",
        "query = f'''\n",
        "10歳の息子の誕生日プレゼントを探してください\n",
        "'''\n",
        "_ = await client.stream(query)"
      ],
      "metadata": {
        "colab": {
          "base_uri": "https://localhost:8080/"
        },
        "outputId": "8d6034cf-bd94-464f-ebd0-8f0fd3ead4ab",
        "id": "kFDWW2qExjnL"
      },
      "execution_count": 16,
      "outputs": [
        {
          "output_type": "stream",
          "name": "stdout",
          "text": [
            "[shop_concierge_agent]\n",
            "\n",
            "10歳の息子さんへの誕生日プレゼントをお探しなのですね。承知いたしました。\n",
            "\n",
            "まず、いくつか質問を作成して、プレゼントの候補を絞り込みたいと思います。\n",
            "以下のクエリで検索をかけてもよろしいでしょうか？\n",
            "\n",
            "1. \"best birthday gifts for 10 year old boys\"\n",
            "2. \"top toys for 10 year old boys 2024\"\n",
            "3. \"popular video games for 10 year olds\"\n",
            "4. \"creative gifts for 10 year old boys\"\n",
            "5. \"educational toys for 10 year old boys\"\n",
            "\n",
            "これらのクエリで検索をかけてもよろしいでしょうか？\n",
            "\n",
            "\n"
          ]
        }
      ],
      "id": "kFDWW2qExjnL"
    },
    {
      "cell_type": "code",
      "source": [
        "query = f'''\n",
        "はい、お願いします！\n",
        "'''\n",
        "_ = await client.stream(query)"
      ],
      "metadata": {
        "colab": {
          "base_uri": "https://localhost:8080/"
        },
        "outputId": "f55fc904-cccb-4423-ec43-f8b790c16a28",
        "id": "bkhKpkEy3nPK"
      },
      "execution_count": 17,
      "outputs": [
        {
          "output_type": "stream",
          "name": "stderr",
          "text": [
            "WARNING:google_genai.types:Warning: there are non-text parts in the response: ['function_call'],returning concatenated text result from text parts,check out the non text parts for full response from model.\n"
          ]
        },
        {
          "output_type": "stream",
          "name": "stdout",
          "text": [
            "-----\n",
            "User queries: ['best birthday gifts for 10 year old boys', 'top toys for 10 year old boys 2024', 'popular video games for 10 year olds', 'creative gifts for 10 year old boys', 'educational toys for 10 year old boys']\n",
            "Found: 15 items\n",
            "-----\n",
            "[shop_concierge_agent]\n",
            "\n",
            "10歳のお子様向けの誕生日プレゼントとして、いくつか商品が見つかりました。\n",
            "\n",
            "1. **Gel blaster (blue)**: 水のビーズを使用するおもちゃの銃です。12歳以上推奨とのことです。\n",
            "   * 説明: Electric Gel Blaster Toys, Automatic Splat Ball Blaster MP5 with 31000 Water Beads and Goggles。Ages 12+ recommended。\n",
            "   * 画像URL: https://u-mercari-images.mercdn.net/photos/m49651033077_1.jpg?w=200&h=200&fitcrop&sharpen\n",
            "\n",
            "2. **Flashing Cube Electronic Memory Game | 4-in-1 STEM Game**: 光るキューブを使った電子メモリーゲームです。6歳から106歳まで楽しめます。\n",
            "   * 説明: Geared for kids and adults ages 6 to 106, FlashDash offers fun and adventure packed into a compact light-up cube that’s easy to take along with you for entertainment on-the-go.\n",
            "   * 画像URL: https://u-mercari-images.mercdn.net/photos/m59901702555_1.jpg?w=200&h=200&fitcrop&sharpen\n",
            "\n",
            "3. **Kids Walkie talkies blue camo new fayogoo**: 子供用のトランシーバーです。\n",
            "   * 説明: Walkie talkies blue camo new fayogoo\n",
            "   * 画像URL: https://u-mercari-images.mercdn.net/photos/m17934168045_1.jpg?w=200&h=200&fitcrop&sharpen\n",
            "\n",
            "4. **Remote Control Mini Drone**: リモコン操作のミニドローンです。\n",
            "   * 説明: Brand new 。b45  Good Mini Remote Control Drone for Beginner- With the function of Altitude Hold, Headless Mode, One Key Take Off/Landing and Emergency Stop , children can enjoy fully joyful flying without pressure。\n",
            "   * 画像URL: https://u-mercari-images.mercdn.net/photos/m13481710255_1.jpg?w=200&h=200&fitcrop&sharpen\n",
            "\n",
            "5. **Minecraft Explorers Pack for Xbox One Brand New**: Xbox One用のマインクラフトのゲームです。\n",
            "   * 説明: Model: Minecraft Explorers Pack。Genre: Action & Adventure。Comes with 700 mins coins.\n",
            "   * 画像URL: https://u-mercari-images.mercdn.net/photos/m46232108410_1.jpg?w=200&h=200&fitcrop&sharpen\n",
            "\n",
            "6. **Skylanders: Giants for Xbox 360**: Xbox 360用のスカイランダーズのゲームです。\n",
            "   * 説明: Skylanders: Giants for Xbox 360。This is case and game no book\n",
            "   * 画像URL: https://u-mercari-images.mercdn.net/photos/m23385414484_1.jpg?w=200&h=200&fitcrop&sharpen\n",
            "\n",
            "7. **Creative Kids Rainbow Scratch Paper Craft Set - 185 Pieces Scratch Paper Art Kit**: レインボースクラッチペーパーのクラフトセットです。\n",
            "   * 説明: Discover the joy of rainbow scratch art!\n",
            "   * 画像URL: https://u-mercari-images.mercdn.net/photos/m75513635460_1.jpg?w=200&h=200&fitcrop&sharpen\n",
            "\n",
            "8. **The Original Spirograph Design Set With Markers By Hasbro**: スピログラフのデザインセットです。\n",
            "   * 説明: Spirograph has made it possible for aspiring artists of all ages to create beautifully intricate designs.\n",
            "   * 画像URL: https://u-mercari-images.mercdn.net/photos/m52165297672_1.jpg?w=200&h=200&fitcrop&sharpen\n",
            "\n",
            "9. **52pc Kids' Beginner Microscope STEM Kit with Slides, LED Light**: 子供向けの顕微鏡キットです。\n",
            "   * 説明: 120X, 240X, 300X, 480X, 600X and 1200X six magnification beginner microscope\n",
            "   * 画像URL: https://u-mercari-images.mercdn.net/photos/m25361656521_1.jpg?w=200&h=200&fitcrop&sharpen\n",
            "\n",
            "10. **VATOS 26 models 570pcs STEM building blocks**: STEM教育用の組み立てブロックです。\n",
            "    * 説明: New in box VATOS stem building blocks similar to legos。26 models 570 pieces\n",
            "    * 画像URL: https://u-mercari-images.mercdn.net/photos/m35944687063_1.jpg?w=200&h=200&fitcrop&sharpen\n",
            "\n",
            "11. **TEMI STEM Solar Robot Toys 12-in-1, 190 Pieces Solar and Cell Powered 2 in 1**: 太陽光発電で動くロボットのおもちゃです。\n",
            "    * 説明: Solar Robot Stem Educational 12-in-1 Kit Solar Panel Power Source\n",
            "    * 画像URL: https://u-mercari-images.mercdn.net/photos/m95907208111_1.jpg?w=200&h=200&fitcrop&sharpen\n",
            "\n",
            "これらの商品の中で、何か気になるものはありますか？\n",
            "\n",
            "\n"
          ]
        }
      ],
      "id": "bkhKpkEy3nPK"
    },
    {
      "cell_type": "code",
      "source": [],
      "metadata": {
        "id": "nZGSQ4wppIL3"
      },
      "id": "nZGSQ4wppIL3",
      "execution_count": 17,
      "outputs": []
    }
  ],
  "metadata": {
    "kernelspec": {
      "display_name": "Python 3",
      "language": "python",
      "name": "python3"
    },
    "language_info": {
      "codemirror_mode": {
        "name": "ipython",
        "version": 3
      },
      "file_extension": ".py",
      "mimetype": "text/x-python",
      "name": "python",
      "nbconvert_exporter": "python",
      "pygments_lexer": "ipython3",
      "version": "3.10.10"
    },
    "colab": {
      "provenance": [],
      "name": "kazsato (Apr 22, 2025, 7:33:25 AM)"
    }
  },
  "nbformat": 4,
  "nbformat_minor": 5
}